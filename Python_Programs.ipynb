{
  "cells": [
    {
      "cell_type": "markdown",
      "metadata": {
        "id": "view-in-github",
        "colab_type": "text"
      },
      "source": [
        "<a href=\"https://colab.research.google.com/github/KRISHAANK4384/Java-Lab-/blob/main/Python_Programs.ipynb\" target=\"_parent\"><img src=\"https://colab.research.google.com/assets/colab-badge.svg\" alt=\"Open In Colab\"/></a>"
      ]
    },
    {
      "cell_type": "code",
      "source": [
        "a=23\n",
        "a\n"
      ],
      "metadata": {
        "colab": {
          "base_uri": "https://localhost:8080/"
        },
        "id": "_x9WBFQCAZuM",
        "outputId": "d5593e27-e8d8-4230-bd0e-47b897e6112d"
      },
      "execution_count": null,
      "outputs": [
        {
          "output_type": "execute_result",
          "data": {
            "text/plain": [
              "23"
            ]
          },
          "metadata": {},
          "execution_count": 23
        }
      ]
    },
    {
      "cell_type": "code",
      "source": [
        "print(type(a))"
      ],
      "metadata": {
        "colab": {
          "base_uri": "https://localhost:8080/"
        },
        "id": "04hmgD9cAsn7",
        "outputId": "c86d2a86-402f-4fbc-9654-fe63aff5edf7"
      },
      "execution_count": null,
      "outputs": [
        {
          "output_type": "stream",
          "name": "stdout",
          "text": [
            "<class 'int'>\n"
          ]
        }
      ]
    },
    {
      "cell_type": "code",
      "source": [
        "num = 31\n",
        "if num % 2 == 0:\n",
        "    print(f\"{num} is an even number.\")\n",
        "else:\n",
        "    print(f\"{num} is an odd number.\")"
      ],
      "metadata": {
        "colab": {
          "base_uri": "https://localhost:8080/"
        },
        "id": "pIakbG1DDAa7",
        "outputId": "08fa59e1-6d6c-4a3b-8823-efcde940f8a3"
      },
      "execution_count": null,
      "outputs": [
        {
          "output_type": "stream",
          "name": "stdout",
          "text": [
            "31 is an odd number.\n"
          ]
        }
      ]
    },
    {
      "cell_type": "code",
      "source": [
        "num1 = 54\n",
        "num2 = 45\n",
        "sum = num1 + num2\n",
        "print(f\"The sum of {num1} and {num2} is {sum}\")"
      ],
      "metadata": {
        "colab": {
          "base_uri": "https://localhost:8080/"
        },
        "id": "Xwe6XuhYFa8r",
        "outputId": "b5b8b51d-4183-460a-f787-e4c0c21c2e31"
      },
      "execution_count": null,
      "outputs": [
        {
          "output_type": "stream",
          "name": "stdout",
          "text": [
            "The sum of 54 and 45 is 99\n"
          ]
        }
      ]
    },
    {
      "cell_type": "code",
      "source": [
        "principal = 1000\n",
        "rate = 5\n",
        "time = 2\n",
        "simple_interest = (principal * rate * time) / 100\n",
        "\n",
        "print(f\" {simple_interest}\")"
      ],
      "metadata": {
        "colab": {
          "base_uri": "https://localhost:8080/"
        },
        "id": "u730aBrCHCaa",
        "outputId": "e46358d9-3350-4835-8f2b-28a0d5e35b0e"
      },
      "execution_count": null,
      "outputs": [
        {
          "output_type": "stream",
          "name": "stdout",
          "text": [
            " 100.0\n"
          ]
        }
      ]
    },
    {
      "cell_type": "code",
      "source": [
        "import math\n",
        "\n",
        "radius = 5\n",
        "area = math.pi * radius ** 2 # Assuming the user meant radius squared for area\n",
        "\n",
        "print(f\" {area}\")"
      ],
      "metadata": {
        "colab": {
          "base_uri": "https://localhost:8080/"
        },
        "id": "AvBvf6ZHHP6b",
        "outputId": "c4329da2-93ae-4c5a-a7f6-2a8238950958"
      },
      "execution_count": null,
      "outputs": [
        {
          "output_type": "stream",
          "name": "stdout",
          "text": [
            " 78.53981633974483\n"
          ]
        }
      ]
    },
    {
      "cell_type": "code",
      "source": [
        "string = \"hello and welcome to world\"\n",
        "capitalized_string = string.capitalize()\n",
        "print(f\" {string}\")\n",
        "print(f\"{capitalized_string}\")"
      ],
      "metadata": {
        "colab": {
          "base_uri": "https://localhost:8080/"
        },
        "id": "hTinWfu0367B",
        "outputId": "82a6c806-7239-489c-ca9d-67e0af95558d"
      },
      "execution_count": null,
      "outputs": [
        {
          "output_type": "stream",
          "name": "stdout",
          "text": [
            " hello and welcome to world\n",
            "Hello and welcome to world\n"
          ]
        }
      ]
    },
    {
      "cell_type": "code",
      "source": [
        "text = \"Hello bro!\"\n",
        "casefolded_text = text.casefold()\n",
        "print(f\"Original text: {text}\")\n",
        "print(f\"Casefolded text: {casefolded_text}\")"
      ],
      "metadata": {
        "colab": {
          "base_uri": "https://localhost:8080/"
        },
        "id": "P2FH-OYn4nqD",
        "outputId": "a421c1ab-6d61-4d41-a433-137e48a8f0ad"
      },
      "execution_count": null,
      "outputs": [
        {
          "output_type": "stream",
          "name": "stdout",
          "text": [
            "Original text: Hello bro!\n",
            "Casefolded text: hello bro!\n"
          ]
        }
      ]
    },
    {
      "cell_type": "code",
      "source": [
        "string=\"hello\"\n",
        "x=string.center(100)\n",
        "print (x)"
      ],
      "metadata": {
        "colab": {
          "base_uri": "https://localhost:8080/"
        },
        "id": "1b70Y69m5ntx",
        "outputId": "36a4bdcd-d292-4a34-ed64-12c4abe9885b"
      },
      "execution_count": null,
      "outputs": [
        {
          "output_type": "stream",
          "name": "stdout",
          "text": [
            "                                               hello                                                \n"
          ]
        }
      ]
    },
    {
      "cell_type": "markdown",
      "source": [],
      "metadata": {
        "id": "D_JJTwFf8wsn"
      }
    },
    {
      "cell_type": "code",
      "source": [
        "fruits = [\"apple\", \"banana\", \"cherry\",\"mango\",\"apple\"]\n",
        "\n",
        "x = fruits.count(\"apple\")\n",
        "print(f\": {x}\")"
      ],
      "metadata": {
        "colab": {
          "base_uri": "https://localhost:8080/"
        },
        "id": "HrAkoS9Q6dDB",
        "outputId": "51cfb6ff-d382-4be3-dd65-ff9493e23f8f"
      },
      "execution_count": null,
      "outputs": [
        {
          "output_type": "stream",
          "name": "stdout",
          "text": [
            ": 2\n"
          ]
        }
      ]
    },
    {
      "cell_type": "code",
      "source": [
        "txt = \"My name is Anthony Gonslaves\"\n",
        "\n",
        "x = txt.encode()\n",
        "\n",
        "print(x)\n"
      ],
      "metadata": {
        "colab": {
          "base_uri": "https://localhost:8080/"
        },
        "id": "dy3HvsxY9KSn",
        "outputId": "af687d4d-303b-421c-fe7c-9e21a9d4f97a"
      },
      "execution_count": null,
      "outputs": [
        {
          "output_type": "stream",
          "name": "stdout",
          "text": [
            "b'My name is Anthony Gonslaves'\n"
          ]
        }
      ]
    },
    {
      "cell_type": "code",
      "source": [
        "string = \"Hello, welcome to my page\"\n",
        "\n",
        "x = string.endswith(\"my page\")\n",
        "\n",
        "print(x)"
      ],
      "metadata": {
        "colab": {
          "base_uri": "https://localhost:8080/"
        },
        "id": "MUTMCKbn98eQ",
        "outputId": "98c9c360-24f9-4b8f-c7f5-29f1e1bc064c"
      },
      "execution_count": null,
      "outputs": [
        {
          "output_type": "stream",
          "name": "stdout",
          "text": [
            "True\n"
          ]
        }
      ]
    },
    {
      "cell_type": "code",
      "source": [
        "txt = \"H\\te\\tl\\tl\\to\"\n",
        "\n",
        "x =  txt.expandtabs(10)\n",
        "\n",
        "print(x)"
      ],
      "metadata": {
        "colab": {
          "base_uri": "https://localhost:8080/"
        },
        "id": "5uu8vEKW_Shg",
        "outputId": "32853d6c-8aa0-4315-e1ed-871b25825fb5"
      },
      "execution_count": null,
      "outputs": [
        {
          "output_type": "stream",
          "name": "stdout",
          "text": [
            "H         e         l         l         o\n"
          ]
        }
      ]
    },
    {
      "cell_type": "code",
      "source": [
        "txt = \"Hello, welcome to my world.\"\n",
        "\n",
        "x = txt.find(\"to\")\n",
        "\n",
        "print(x)"
      ],
      "metadata": {
        "colab": {
          "base_uri": "https://localhost:8080/"
        },
        "id": "rGbDAmlEAUJ-",
        "outputId": "1817db70-938d-4715-cb8c-5a7d8f27cdb1"
      },
      "execution_count": null,
      "outputs": [
        {
          "output_type": "stream",
          "name": "stdout",
          "text": [
            "15\n"
          ]
        }
      ]
    },
    {
      "cell_type": "code",
      "source": [
        "num1 = 10\n",
        "num2 = 20\n",
        "\n",
        "print(f\"{num1}, {num2}\")\n",
        "\n",
        "temp = num1\n",
        "num1 = num2\n",
        "num2 = temp\n",
        "\n",
        "print(f\"{num1}, {num2}\")"
      ],
      "metadata": {
        "colab": {
          "base_uri": "https://localhost:8080/"
        },
        "id": "aNu8JLEOCPhQ",
        "outputId": "70572744-c4d6-4db7-8134-1a910fd49c30"
      },
      "execution_count": null,
      "outputs": [
        {
          "output_type": "stream",
          "name": "stdout",
          "text": [
            "10, 20\n",
            "20, 10\n"
          ]
        }
      ]
    },
    {
      "cell_type": "code",
      "source": [
        "num = 63\n",
        "print(f\" {num}:\")\n",
        "for i in range(1, 11):\n",
        "  print(f\"{num} x {i} = {num * i}\")"
      ],
      "metadata": {
        "colab": {
          "base_uri": "https://localhost:8080/"
        },
        "id": "j5E9_KFsD239",
        "outputId": "955dfaf2-bd01-4d05-f3fa-74d52683a4b1"
      },
      "execution_count": null,
      "outputs": [
        {
          "output_type": "stream",
          "name": "stdout",
          "text": [
            " 63:\n",
            "63 x 1 = 63\n",
            "63 x 2 = 126\n",
            "63 x 3 = 189\n",
            "63 x 4 = 252\n",
            "63 x 5 = 315\n",
            "63 x 6 = 378\n",
            "63 x 7 = 441\n",
            "63 x 8 = 504\n",
            "63 x 9 = 567\n",
            "63 x 10 = 630\n"
          ]
        }
      ]
    },
    {
      "cell_type": "code",
      "source": [
        "def factorial(n):\n",
        "  if n == 0:\n",
        "    return 1\n",
        "  else:\n",
        "    return n * factorial(n-1)\n",
        "\n",
        "number = 7\n",
        "result = factorial(number)\n",
        "print(f\" {number}  {result}\")"
      ],
      "metadata": {
        "colab": {
          "base_uri": "https://localhost:8080/"
        },
        "id": "d8mtgAZFPtCS",
        "outputId": "b464387a-7e4a-47d6-b8b8-043a21e17dda"
      },
      "execution_count": null,
      "outputs": [
        {
          "output_type": "stream",
          "name": "stdout",
          "text": [
            " 7  5040\n"
          ]
        }
      ]
    },
    {
      "cell_type": "code",
      "source": [
        "import math\n",
        "\n",
        "def distance(x1, y1, x2, y2):\n",
        "\n",
        "  return math.sqrt((x2 - x1)**2 + (y2 - y1)**2)\n",
        "x1, y1 = 1, 2\n",
        "x2, y2 = 3,4\n",
        "dist = distance(x1, y1, x2, y2)\n",
        "print(f\" ({x1}, {y1}) and ({x2}, {y2}) is {dist}\")"
      ],
      "metadata": {
        "id": "Jhb_Y2Dci-wZ",
        "colab": {
          "base_uri": "https://localhost:8080/"
        },
        "outputId": "d2492174-a120-45ca-b1e6-ff85c86a62f5"
      },
      "execution_count": null,
      "outputs": [
        {
          "output_type": "stream",
          "name": "stdout",
          "text": [
            " (1, 2) and (3, 4) is 2.8284271247461903\n"
          ]
        }
      ]
    },
    {
      "cell_type": "code",
      "source": [
        "num = 34512\n",
        "ones_place_digit = num % 10\n",
        "print(f\"{num}  {ones_place_digit}\")"
      ],
      "metadata": {
        "colab": {
          "base_uri": "https://localhost:8080/"
        },
        "id": "_9uVpLYdkjDP",
        "outputId": "de3bb3ab-7277-459a-d44a-f5894a83fa9e"
      },
      "execution_count": null,
      "outputs": [
        {
          "output_type": "stream",
          "name": "stdout",
          "text": [
            "34512  2\n"
          ]
        }
      ]
    },
    {
      "cell_type": "code",
      "source": [
        "num = 1234\n",
        "reversed_num = 0\n",
        "while num != 0:\n",
        "    digit = num % 10\n",
        "    reversed_num = reversed_num * 10 + digit\n",
        "    num //= 10\n",
        "print(f\"The reversed number is: {reversed_num}\")"
      ],
      "metadata": {
        "colab": {
          "base_uri": "https://localhost:8080/"
        },
        "id": "K0Hc5xAjK_HA",
        "outputId": "3813a1c9-8f38-432b-9f96-8d0815a22c07"
      },
      "execution_count": null,
      "outputs": [
        {
          "output_type": "stream",
          "name": "stdout",
          "text": [
            "The reversed number is: 4321\n"
          ]
        }
      ]
    },
    {
      "cell_type": "code",
      "source": [
        "number = int(input(\"Enter a number: \"))\n",
        "digit_count = len(str(abs(number)))\n",
        "print(f\" {number} is: {digit_count}\")\n"
      ],
      "metadata": {
        "colab": {
          "base_uri": "https://localhost:8080/"
        },
        "id": "oF9KjNeQMrhf",
        "outputId": "f659e9f0-581f-47e1-d6ed-69f6e01ac5f4"
      },
      "execution_count": null,
      "outputs": [
        {
          "output_type": "stream",
          "name": "stdout",
          "text": [
            "Enter a number: 2789\n",
            " 2789 is: 4\n"
          ]
        }
      ]
    },
    {
      "cell_type": "code",
      "source": [
        "def count_characters(input_string):\n",
        "  \"\"\"Counts the occurrences of each character in a string.\"\"\"\n",
        "  char_counts = {}\n",
        "  for char in input_string:\n",
        "    if char in char_counts:\n",
        "      char_counts[char] += 1\n",
        "    else:\n",
        "      char_counts[char] = 1\n",
        "  return char_counts\n",
        "\n",
        "# Example usage:\n",
        "my_string = \"thank you\"\n",
        "character_counts = count_characters(my_string)\n",
        "print(f\"Character counts for '{my_string}':\")\n",
        "for char, count in character_counts.items():\n",
        "  print(f\"'{char}': {count}\")"
      ],
      "metadata": {
        "id": "Q7oIWnmzujrq",
        "colab": {
          "base_uri": "https://localhost:8080/"
        },
        "outputId": "817d3f9f-a667-4fcb-97f2-bf26c6b7fa22"
      },
      "execution_count": null,
      "outputs": [
        {
          "output_type": "stream",
          "name": "stdout",
          "text": [
            "Character counts for 'thank you':\n",
            "'t': 1\n",
            "'h': 1\n",
            "'a': 1\n",
            "'n': 1\n",
            "'k': 1\n",
            "' ': 1\n",
            "'y': 1\n",
            "'o': 1\n",
            "'u': 1\n"
          ]
        }
      ]
    },
    {
      "cell_type": "code",
      "source": [
        "input_string = input(\"Enter a string: \")\n",
        "print(f\"Original string: {input_string}\")\n",
        "\n",
        "vowels = \"aeiouAEIOU\"\n",
        "string_without_vowels = \"\"\n",
        "\n",
        "for char in input_string:\n",
        "  if char not in vowels:\n",
        "    string_without_vowels += char\n",
        "\n",
        "print(f\"String without vowels: {string_without_vowels}\")"
      ],
      "metadata": {
        "colab": {
          "base_uri": "https://localhost:8080/"
        },
        "collapsed": true,
        "id": "Aee1FWI7vdRS",
        "outputId": "a0c3de82-0e64-4b7c-9b7e-a996c5c6f9b7"
      },
      "execution_count": null,
      "outputs": [
        {
          "output_type": "stream",
          "name": "stdout",
          "text": [
            "Enter a string: hello\n",
            "Original string: hello\n",
            "String without vowels: hll\n"
          ]
        }
      ]
    },
    {
      "cell_type": "code",
      "source": [
        "students = {}\n",
        "\n",
        "while True:\n",
        "    print(\"\\n===== STUDENT COURSE MANAGEMENT SYSTEM =====\")\n",
        "    print(\"1. Add Student and their Courses\")\n",
        "    print(\"2. Show All Students with Courses\")\n",
        "    print(\"3. Exit\")\n",
        "\n",
        "    choice = input(\"Enter your choice (1-3): \")\n",
        "\n",
        "    if choice == \"1\":\n",
        "        name = input(\"Enter Student Name: \")\n",
        "        courses = input(\"Enter courses (comma separated): \").split(\",\")\n",
        "        students[name] = set(course.strip().title() for course in courses)\n",
        "        print(\"Student added successfully.\")\n",
        "\n",
        "    elif choice == \"2\":\n",
        "        if not students:\n",
        "            print(\"No students found!\")\n",
        "        else:\n",
        "            for name, courses in students.items():\n",
        "                print(name, \":\", courses)\n",
        "    elif choice == \"3\":\n",
        "        print(\"Exiting Program\")\n",
        "        break"
      ],
      "metadata": {
        "colab": {
          "base_uri": "https://localhost:8080/"
        },
        "id": "VeDFObZwy9Y0",
        "outputId": "ef429f4c-94b8-4ab9-df14-955d442a3f7e"
      },
      "execution_count": null,
      "outputs": [
        {
          "output_type": "stream",
          "name": "stdout",
          "text": [
            "\n",
            "===== STUDENT COURSE MANAGEMENT SYSTEM =====\n",
            "1. Add Student and their Courses\n",
            "2. Show All Students with Courses\n",
            "3. Exit\n"
          ]
        }
      ]
    }
  ],
  "metadata": {
    "colab": {
      "toc_visible": true,
      "provenance": [],
      "include_colab_link": true
    },
    "kernelspec": {
      "display_name": "Python 3",
      "name": "python3"
    }
  },
  "nbformat": 4,
  "nbformat_minor": 0
}